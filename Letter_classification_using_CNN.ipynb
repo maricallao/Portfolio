{
  "cells": [
    {
      "cell_type": "markdown",
      "metadata": {
        "id": "SZwQc8iIYzhL"
      },
      "source": [
        "#**Letter classification using CNN**"
      ]
    },
    {
      "cell_type": "markdown",
      "metadata": {
        "id": "QoBihZe6_Acd"
      },
      "source": [
        "## Table of Content\n",
        "   \n",
        "1. [Data Description](#cell_Preparation)\n",
        "\n",
        "2. [Data Preprocessing](#cell_Preprocessing)\n",
        "\n",
        "3. [Model Construction](#cell_model)\n",
        "\n",
        "4. [Model Execution](#cell_execution)\n",
        " \n",
        "5. [Experiments Report](#cell_report)\n",
        "\n"
      ]
    },
    {
      "cell_type": "markdown",
      "metadata": {
        "id": "rzo8kho_wzib"
      },
      "source": [
        "## Executive Summary"
      ]
    },
    {
      "cell_type": "markdown",
      "metadata": {
        "id": "_D-HpoG7w1YP"
      },
      "source": [
        "Companies deals with a lot of documents that are essential in running the business, which are often in a text non-machine readable form (e.g. scanned documents from hardprints). This makes data processing (e.g. document editing, information querying, etc.) time consuming. It would be ideal if the business can readily covert these documents in a form that would make the specified process efficient. Under this context, a classification model for determining characters (i.e. letters) from handwritten or scanned documents is built as a demonstrative example.\n",
        "\n",
        "The dataset used in the demonstration is the EMNIST Letters dataset, which consists of images of 145,600 characters with 26 classes corresponding to each letter in the alphabet. The characters are a mix of uppercase and lowercase handwritten letters. The prediction model built uses Convolutional Neural Network (CNN). This method is well known for its ability to efficiently and effectively learn relationships between linear and non-linear data and is fairly simple to construct despite its ability to solve complex computational problems. In addition, it performs relatively well when input data are images. Therefore, CNN will be applied on the prediction of letters from non-machine readable texts.\n",
        "\n",
        "The experimentation on the application of the CNN model to the dataset will be carried out in the following manner:\n",
        "*   An optimisation function where varying values of different hyperparameters of the model (e.g. hidden layers, regularizations, initializers, optimizers and learning rates, etc.) will be defined\n",
        "*   Using a metric (i.e. accuracy), the different models created using the optimisation function will be evaluated and the model with the best hyperparameter will be chosen\n",
        "*   The hyperparameters of the best model will be fitted (i.e. model will be re-trained) to the dataset\n",
        "*   The model with best metric (i.e. accuracy) will be evaluated in terms of model loss, accuracy, and prediction ability"
      ]
    },
    {
      "cell_type": "markdown",
      "metadata": {
        "id": "ufoVVdqtYzhU"
      },
      "source": [
        "<a id = \"cell_Preparation\"></a>\n",
        "## 1. Data Description"
      ]
    },
    {
      "cell_type": "markdown",
      "metadata": {
        "id": "tpg2rWKxS_g9"
      },
      "source": [
        "#### **1.1. Loading of data and standard libraries**"
      ]
    },
    {
      "cell_type": "code",
      "execution_count": null,
      "metadata": {
        "id": "KoqLC8VfRhkP"
      },
      "outputs": [],
      "source": [
        "from __future__ import print_function\n",
        "import os\n",
        "import math\n",
        "import numpy as np\n",
        "import pandas as pd\n",
        "import seaborn as sns\n",
        "import matplotlib.pyplot as plt"
      ]
    },
    {
      "cell_type": "code",
      "execution_count": null,
      "metadata": {
        "id": "3COOH5xoXhAB"
      },
      "outputs": [],
      "source": [
        "pd.set_option('display.max_columns', None)\n",
        "pd.set_option('display.max_rows', None)"
      ]
    },
    {
      "cell_type": "code",
      "execution_count": null,
      "metadata": {
        "id": "m6-2cS7WAgLL"
      },
      "outputs": [],
      "source": [
        "pip install emnist"
      ]
    },
    {
      "cell_type": "code",
      "execution_count": null,
      "metadata": {
        "colab": {
          "base_uri": "https://localhost:8080/"
        },
        "id": "vVjrBE49SYf4",
        "outputId": "40076e6b-3be9-466b-f04f-cfbf38533d4a"
      },
      "outputs": [
        {
          "output_type": "stream",
          "name": "stderr",
          "text": [
            "Downloading emnist.zip: 536MB [00:09, 59.1MB/s]\n"
          ]
        }
      ],
      "source": [
        "from emnist import extract_training_samples, extract_test_samples\n",
        "x_train, y_train = extract_training_samples('letters')\n",
        "x_test, y_test = extract_test_samples('letters')"
      ]
    },
    {
      "cell_type": "markdown",
      "metadata": {
        "id": "qBFkDtphTqV0"
      },
      "source": [
        "#### **1.2. Dataset characteristics**"
      ]
    },
    {
      "cell_type": "markdown",
      "metadata": {
        "id": "EWa5ghIeZk4Y"
      },
      "source": [
        "The dataset used in this experiment is the EMNIST Letters dataset. It is comprised of 145,600 characters with 26 classes corresponding to each letter in the alphabet. The characters are a mix of uppercase and lowercase handwritten letters. Each character is made up of a 28x28 array with values ranging from 0 to 255 (i.e. corresponding to greyscale color assignment). The images below illustrate examples of how the arrays look like when plotted."
      ]
    },
    {
      "cell_type": "code",
      "execution_count": null,
      "metadata": {
        "colab": {
          "base_uri": "https://localhost:8080/"
        },
        "id": "lx-_f8vUHU5r",
        "outputId": "cd0b5cd2-8f76-47d6-e149-73b5c2ad964b"
      },
      "outputs": [
        {
          "output_type": "stream",
          "name": "stdout",
          "text": [
            "(28, 28)\n"
          ]
        },
        {
          "output_type": "execute_result",
          "data": {
            "text/plain": [
              "array([[  0,   0,   0,   0,   0,   0,   0,   0,   0,   0,   0,   0,   0,\n",
              "          0,   0,   0,   0,   0,   0,   0,   0,   0,   0,   0,   0,   0,\n",
              "          0,   0],\n",
              "       [  0,   0,   0,   0,   3,   4,   0,   0,   0,   0,   0,   0,   0,\n",
              "          0,   0,   0,   0,   0,   0,   0,   0,   0,   0,   0,   0,   0,\n",
              "          0,   0],\n",
              "       [  0,   0,   0,  20, 109, 114,  45,   0,   0,   0,   0,   0,   0,\n",
              "          0,   0,   0,   0,   0,   0,   0,   0,   0,   0,   0,   0,   0,\n",
              "          0,   0],\n",
              "       [  0,   0,   0, 114, 245, 253, 214,   5,   0,   0,   0,   0,   0,\n",
              "         20, 100,  33,   1,   0,   0,   0,   0,   0,   0,   0,   0,   0,\n",
              "          0,   0],\n",
              "       [  0,   0,   0, 125, 249, 254, 233,  22,   0,   0,   0,   0,  10,\n",
              "        123, 238, 163,  33,   0,   0,   0,   0,   2,   4,   4,   0,   0,\n",
              "          0,   0],\n",
              "       [  0,   0,   0,  82, 233, 254, 251,  82,   2,   0,   0,   3,  79,\n",
              "        220, 254, 244, 126,   0,   0,   0,   3,  77, 125, 113,   8,   0,\n",
              "          0,   0],\n",
              "       [  0,   0,   0,  37, 217, 254, 254, 128,   5,   0,   0,  34, 204,\n",
              "        254, 255, 254, 216,   5,   0,  22, 154, 247, 254, 253, 111,   3,\n",
              "          0,   0],\n",
              "       [  0,   0,   0,  37, 217, 254, 254, 160,  16,   0,   3,  84, 233,\n",
              "        254, 255, 254, 233,  22,  10,  95, 232, 254, 254, 246,  77,   2,\n",
              "          0,   0],\n",
              "       [  0,   0,   0,  39, 217, 254, 254, 184,  25,   0,  34, 175, 251,\n",
              "        254, 255, 254, 250,  82, 128, 221, 253, 255, 252, 177,   8,   0,\n",
              "          0,   0],\n",
              "       [  0,   0,   0, 115, 245, 254, 254, 217,  37,   9, 175, 251, 254,\n",
              "        255, 255, 255, 254, 251, 254, 254, 254, 254, 232, 109,   0,   0,\n",
              "          0,   0],\n",
              "       [  0,   0,   1, 157, 251, 254, 255, 217,  40,  77, 246, 254, 255,\n",
              "        255, 255, 255, 255, 255, 255, 255, 254, 242, 131,  22,   0,   0,\n",
              "          0,   0],\n",
              "       [  0,   0,   0,  94, 234, 254, 255, 218,  50, 140, 254, 254, 255,\n",
              "        255, 255, 255, 255, 255, 255, 254, 252, 131,  32,   0,   0,   0,\n",
              "          0,   0],\n",
              "       [  0,   0,   0,  21, 172, 252, 255, 249, 227, 247, 254, 253, 239,\n",
              "        248, 254, 255, 255, 255, 254, 253, 207,   9,   0,   0,   0,   0,\n",
              "          0,   0],\n",
              "       [  0,   0,   0,  10, 142, 251, 255, 254, 254, 254, 254, 234, 116,\n",
              "        165, 253, 254, 255, 255, 254, 234,  95,   0,   0,   0,   0,   0,\n",
              "          0,   0],\n",
              "       [  0,   0,   0,  32, 203, 254, 255, 255, 255, 254, 253, 202,  35,\n",
              "         37, 235, 254, 255, 255, 254, 217,  39,   0,   0,   0,   0,   0,\n",
              "          0,   0],\n",
              "       [  0,   0,   0,  37, 217, 254, 255, 255, 255, 254, 221,  91,   7,\n",
              "         21, 234, 254, 255, 255, 254, 215,  37,   0,   0,   0,   0,   0,\n",
              "          0,   0],\n",
              "       [  0,   0,   0,  37, 217, 254, 255, 255, 254, 254, 115,   4,   0,\n",
              "         32, 245, 254, 255, 254, 246, 127,   8,   0,   0,   0,   0,   0,\n",
              "          0,   0],\n",
              "       [  0,   0,   0,  37, 217, 254, 255, 255, 254, 244,  46,   0,   0,\n",
              "          9, 222, 254, 255, 254, 208,  46,   0,   0,   0,   0,   0,   0,\n",
              "          0,   0],\n",
              "       [  0,   0,   0,  37, 217, 254, 255, 255, 252, 177,   7,   0,   0,\n",
              "          4, 217, 254, 255, 250, 140,   9,   0,   0,   0,   0,   0,   0,\n",
              "          0,   0],\n",
              "       [  0,   0,   0,  37, 217, 254, 255, 254, 245, 114,   0,   0,   0,\n",
              "          4, 217, 254, 255, 233,  82,   2,   0,   0,   0,   0,   0,   0,\n",
              "          0,   0],\n",
              "       [  0,   0,   0,  37, 217, 254, 255, 254, 220,  50,   0,   0,   0,\n",
              "          4, 217, 254, 254, 217,  39,   0,   0,   0,   0,   0,   0,   0,\n",
              "          0,   0],\n",
              "       [  0,   0,   0,  37, 217, 254, 255, 247, 159,  20,   0,   0,   0,\n",
              "          4, 203, 254, 254, 203,  32,   0,   0,   0,   0,   0,   0,   0,\n",
              "          0,   0],\n",
              "       [  0,   0,   0,  82, 233, 254, 254, 216,  38,   0,   0,   0,   0,\n",
              "          0, 115, 240, 233, 110,   4,   0,   0,   0,   0,   0,   0,   0,\n",
              "          0,   0],\n",
              "       [  0,   0,   0, 125, 249, 254, 254, 170,  21,   0,   0,   0,   0,\n",
              "          0,  32, 111,  82,  18,   0,   0,   0,   0,   0,   0,   0,   0,\n",
              "          0,   0],\n",
              "       [  0,   0,   0, 114, 245, 254, 251,  83,   3,   0,   0,   0,   0,\n",
              "          0,   0,   3,   2,   0,   0,   0,   0,   0,   0,   0,   0,   0,\n",
              "          0,   0],\n",
              "       [  0,   0,   0,  20, 109, 127, 113,   7,   0,   0,   0,   0,   0,\n",
              "          0,   0,   0,   0,   0,   0,   0,   0,   0,   0,   0,   0,   0,\n",
              "          0,   0],\n",
              "       [  0,   0,   0,   0,   3,   4,   4,   0,   0,   0,   0,   0,   0,\n",
              "          0,   0,   0,   0,   0,   0,   0,   0,   0,   0,   0,   0,   0,\n",
              "          0,   0],\n",
              "       [  0,   0,   0,   0,   0,   0,   0,   0,   0,   0,   0,   0,   0,\n",
              "          0,   0,   0,   0,   0,   0,   0,   0,   0,   0,   0,   0,   0,\n",
              "          0,   0]], dtype=uint8)"
            ]
          },
          "metadata": {},
          "execution_count": 5
        }
      ],
      "source": [
        "print(x_train[0].shape)\n",
        "x_train[0]"
      ]
    },
    {
      "cell_type": "code",
      "execution_count": null,
      "metadata": {
        "id": "bn43kfv7Wetf"
      },
      "outputs": [],
      "source": [
        "def plot_image(x_train):\n",
        "    n = 10  # how many digits we will display\n",
        "    plt.figure(figsize=(20, 4))\n",
        "    for i in range(n):\n",
        "        # display original\n",
        "        ax = plt.subplot(2, n, i + 1)\n",
        "        plt.imshow(x_train[i].reshape(28, 28))\n",
        "        plt.gray()\n",
        "        ax.get_xaxis().set_visible(False)\n",
        "        ax.get_yaxis().set_visible(False)\n",
        "    plt.show()"
      ]
    },
    {
      "cell_type": "code",
      "execution_count": null,
      "metadata": {
        "colab": {
          "base_uri": "https://localhost:8080/",
          "height": 129
        },
        "id": "n5nPhxncz7Vz",
        "outputId": "f4c75c02-96bb-4b66-8c8b-e0922ecdb9a2"
      },
      "outputs": [
        {
          "output_type": "display_data",
          "data": {
            "text/plain": [
              "<Figure size 1440x288 with 10 Axes>"
            ],
            "image/png": "[encoded data removed]"
          },
          "metadata": {
            "needs_background": "light"
          }
        }
      ],
      "source": [
        "plot_image(x_train)"
      ]
    },
    {
      "cell_type": "markdown",
      "metadata": {
        "id": "RD-qD_ekhVZG"
      },
      "source": [
        "#### **1.3. Data specification**"
      ]
    },
    {
      "cell_type": "markdown",
      "metadata": {
        "id": "DJq6AboK27ZT"
      },
      "source": [
        "The label of the dataset are numbers ranging from 1 to 26, where each number correspond to the order of the letter in the alphabet (e.g. a = 1; b = 2; c =3; etc.). The input variables to the model would be the value in the arrays of each character, which form the image of handwritten letters as shown in Section 1.2."
      ]
    },
    {
      "cell_type": "markdown",
      "metadata": {
        "id": "nqPl5gh_YzhX"
      },
      "source": [
        "<a id = \"cell_Preprocessing\"></a>\n",
        "## 2. Data Preprocessing"
      ]
    },
    {
      "cell_type": "markdown",
      "source": [
        "Necessary pre-processing, specifically normalisation and reshaping of variables, have been conducted in order to be able to conduct proper data preparation for modelling. The values in the arrays were normalised to values ranging from 0 to 1 to assist in model accuracy and ensure equal weights of inputs throughout the process. These inputs have then been flattened and reshaped to a dimension of 28x28 pixels with 1 channel (i.e. greyscale image)."
      ],
      "metadata": {
        "id": "viZYT5odJfzc"
      }
    },
    {
      "cell_type": "code",
      "execution_count": null,
      "metadata": {
        "colab": {
          "base_uri": "https://localhost:8080/"
        },
        "id": "d45jmhb7RYfJ",
        "outputId": "c91c14e2-575b-4b1c-ae97-2b352e6d48c2"
      },
      "outputs": [
        {
          "output_type": "stream",
          "name": "stdout",
          "text": [
            "(28, 28)\n"
          ]
        },
        {
          "output_type": "execute_result",
          "data": {
            "text/plain": [
              "array([[0.        , 0.        , 0.        , 0.        , 0.        ,\n",
              "        0.        , 0.        , 0.        , 0.        , 0.        ,\n",
              "        0.        , 0.        , 0.        , 0.        , 0.        ,\n",
              "        0.        , 0.        , 0.        , 0.        , 0.        ,\n",
              "        0.        , 0.        , 0.        , 0.        , 0.        ,\n",
              "        0.        , 0.        , 0.        ],\n",
              "       [0.        , 0.        , 0.        , 0.        , 0.01176471,\n",
              "        0.01568628, 0.        , 0.        , 0.        , 0.        ,\n",
              "        0.        , 0.        , 0.        , 0.        , 0.        ,\n",
              "        0.        , 0.        , 0.        , 0.        , 0.        ,\n",
              "        0.        , 0.        , 0.        , 0.        , 0.        ,\n",
              "        0.        , 0.        , 0.        ],\n",
              "       [0.        , 0.        , 0.        , 0.07843138, 0.42745098,\n",
              "        0.44705883, 0.1764706 , 0.        , 0.        , 0.        ,\n",
              "        0.        , 0.        , 0.        , 0.        , 0.        ,\n",
              "        0.        , 0.        , 0.        , 0.        , 0.        ,\n",
              "        0.        , 0.        , 0.        , 0.        , 0.        ,\n",
              "        0.        , 0.        , 0.        ],\n",
              "       [0.        , 0.        , 0.        , 0.44705883, 0.9607843 ,\n",
              "        0.99215686, 0.8392157 , 0.01960784, 0.        , 0.        ,\n",
              "        0.        , 0.        , 0.        , 0.07843138, 0.39215687,\n",
              "        0.12941177, 0.00392157, 0.        , 0.        , 0.        ,\n",
              "        0.        , 0.        , 0.        , 0.        , 0.        ,\n",
              "        0.        , 0.        , 0.        ],\n",
              "       [0.        , 0.        , 0.        , 0.49019608, 0.9764706 ,\n",
              "        0.99607843, 0.9137255 , 0.08627451, 0.        , 0.        ,\n",
              "        0.        , 0.        , 0.03921569, 0.48235294, 0.93333334,\n",
              "        0.6392157 , 0.12941177, 0.        , 0.        , 0.        ,\n",
              "        0.        , 0.00784314, 0.01568628, 0.01568628, 0.        ,\n",
              "        0.        , 0.        , 0.        ],\n",
              "       [0.        , 0.        , 0.        , 0.32156864, 0.9137255 ,\n",
              "        0.99607843, 0.9843137 , 0.32156864, 0.00784314, 0.        ,\n",
              "        0.        , 0.01176471, 0.30980393, 0.8627451 , 0.99607843,\n",
              "        0.95686275, 0.49411765, 0.        , 0.        , 0.        ,\n",
              "        0.01176471, 0.3019608 , 0.49019608, 0.44313726, 0.03137255,\n",
              "        0.        , 0.        , 0.        ],\n",
              "       [0.        , 0.        , 0.        , 0.14509805, 0.8509804 ,\n",
              "        0.99607843, 0.99607843, 0.5019608 , 0.01960784, 0.        ,\n",
              "        0.        , 0.13333334, 0.8       , 0.99607843, 1.        ,\n",
              "        0.99607843, 0.84705883, 0.01960784, 0.        , 0.08627451,\n",
              "        0.6039216 , 0.96862745, 0.99607843, 0.99215686, 0.43529412,\n",
              "        0.01176471, 0.        , 0.        ],\n",
              "       [0.        , 0.        , 0.        , 0.14509805, 0.8509804 ,\n",
              "        0.99607843, 0.99607843, 0.627451  , 0.0627451 , 0.        ,\n",
              "        0.01176471, 0.32941177, 0.9137255 , 0.99607843, 1.        ,\n",
              "        0.99607843, 0.9137255 , 0.08627451, 0.03921569, 0.37254903,\n",
              "        0.9098039 , 0.99607843, 0.99607843, 0.9647059 , 0.3019608 ,\n",
              "        0.00784314, 0.        , 0.        ],\n",
              "       [0.        , 0.        , 0.        , 0.15294118, 0.8509804 ,\n",
              "        0.99607843, 0.99607843, 0.72156864, 0.09803922, 0.        ,\n",
              "        0.13333334, 0.6862745 , 0.9843137 , 0.99607843, 1.        ,\n",
              "        0.99607843, 0.98039216, 0.32156864, 0.5019608 , 0.8666667 ,\n",
              "        0.99215686, 1.        , 0.9882353 , 0.69411767, 0.03137255,\n",
              "        0.        , 0.        , 0.        ],\n",
              "       [0.        , 0.        , 0.        , 0.4509804 , 0.9607843 ,\n",
              "        0.99607843, 0.99607843, 0.8509804 , 0.14509805, 0.03529412,\n",
              "        0.6862745 , 0.9843137 , 0.99607843, 1.        , 1.        ,\n",
              "        1.        , 0.99607843, 0.9843137 , 0.99607843, 0.99607843,\n",
              "        0.99607843, 0.99607843, 0.9098039 , 0.42745098, 0.        ,\n",
              "        0.        , 0.        , 0.        ],\n",
              "       [0.        , 0.        , 0.00392157, 0.6156863 , 0.9843137 ,\n",
              "        0.99607843, 1.        , 0.8509804 , 0.15686275, 0.3019608 ,\n",
              "        0.9647059 , 0.99607843, 1.        , 1.        , 1.        ,\n",
              "        1.        , 1.        , 1.        , 1.        , 1.        ,\n",
              "        0.99607843, 0.9490196 , 0.5137255 , 0.08627451, 0.        ,\n",
              "        0.        , 0.        , 0.        ],\n",
              "       [0.        , 0.        , 0.        , 0.36862746, 0.91764706,\n",
              "        0.99607843, 1.        , 0.85490197, 0.19607843, 0.54901963,\n",
              "        0.99607843, 0.99607843, 1.        , 1.        , 1.        ,\n",
              "        1.        , 1.        , 1.        , 1.        , 0.99607843,\n",
              "        0.9882353 , 0.5137255 , 0.1254902 , 0.        , 0.        ,\n",
              "        0.        , 0.        , 0.        ],\n",
              "       [0.        , 0.        , 0.        , 0.08235294, 0.6745098 ,\n",
              "        0.9882353 , 1.        , 0.9764706 , 0.8901961 , 0.96862745,\n",
              "        0.99607843, 0.99215686, 0.9372549 , 0.972549  , 0.99607843,\n",
              "        1.        , 1.        , 1.        , 0.99607843, 0.99215686,\n",
              "        0.8117647 , 0.03529412, 0.        , 0.        , 0.        ,\n",
              "        0.        , 0.        , 0.        ],\n",
              "       [0.        , 0.        , 0.        , 0.03921569, 0.5568628 ,\n",
              "        0.9843137 , 1.        , 0.99607843, 0.99607843, 0.99607843,\n",
              "        0.99607843, 0.91764706, 0.45490196, 0.64705884, 0.99215686,\n",
              "        0.99607843, 1.        , 1.        , 0.99607843, 0.91764706,\n",
              "        0.37254903, 0.        , 0.        , 0.        , 0.        ,\n",
              "        0.        , 0.        , 0.        ],\n",
              "       [0.        , 0.        , 0.        , 0.1254902 , 0.79607844,\n",
              "        0.99607843, 1.        , 1.        , 1.        , 0.99607843,\n",
              "        0.99215686, 0.7921569 , 0.13725491, 0.14509805, 0.92156863,\n",
              "        0.99607843, 1.        , 1.        , 0.99607843, 0.8509804 ,\n",
              "        0.15294118, 0.        , 0.        , 0.        , 0.        ,\n",
              "        0.        , 0.        , 0.        ],\n",
              "       [0.        , 0.        , 0.        , 0.14509805, 0.8509804 ,\n",
              "        0.99607843, 1.        , 1.        , 1.        , 0.99607843,\n",
              "        0.8666667 , 0.35686275, 0.02745098, 0.08235294, 0.91764706,\n",
              "        0.99607843, 1.        , 1.        , 0.99607843, 0.84313726,\n",
              "        0.14509805, 0.        , 0.        , 0.        , 0.        ,\n",
              "        0.        , 0.        , 0.        ],\n",
              "       [0.        , 0.        , 0.        , 0.14509805, 0.8509804 ,\n",
              "        0.99607843, 1.        , 1.        , 0.99607843, 0.99607843,\n",
              "        0.4509804 , 0.01568628, 0.        , 0.1254902 , 0.9607843 ,\n",
              "        0.99607843, 1.        , 0.99607843, 0.9647059 , 0.49803922,\n",
              "        0.03137255, 0.        , 0.        , 0.        , 0.        ,\n",
              "        0.        , 0.        , 0.        ],\n",
              "       [0.        , 0.        , 0.        , 0.14509805, 0.8509804 ,\n",
              "        0.99607843, 1.        , 1.        , 0.99607843, 0.95686275,\n",
              "        0.18039216, 0.        , 0.        , 0.03529412, 0.87058824,\n",
              "        0.99607843, 1.        , 0.99607843, 0.8156863 , 0.18039216,\n",
              "        0.        , 0.        , 0.        , 0.        , 0.        ,\n",
              "        0.        , 0.        , 0.        ],\n",
              "       [0.        , 0.        , 0.        , 0.14509805, 0.8509804 ,\n",
              "        0.99607843, 1.        , 1.        , 0.9882353 , 0.69411767,\n",
              "        0.02745098, 0.        , 0.        , 0.01568628, 0.8509804 ,\n",
              "        0.99607843, 1.        , 0.98039216, 0.54901963, 0.03529412,\n",
              "        0.        , 0.        , 0.        , 0.        , 0.        ,\n",
              "        0.        , 0.        , 0.        ],\n",
              "       [0.        , 0.        , 0.        , 0.14509805, 0.8509804 ,\n",
              "        0.99607843, 1.        , 0.99607843, 0.9607843 , 0.44705883,\n",
              "        0.        , 0.        , 0.        , 0.01568628, 0.8509804 ,\n",
              "        0.99607843, 1.        , 0.9137255 , 0.32156864, 0.00784314,\n",
              "        0.        , 0.        , 0.        , 0.        , 0.        ,\n",
              "        0.        , 0.        , 0.        ],\n",
              "       [0.        , 0.        , 0.        , 0.14509805, 0.8509804 ,\n",
              "        0.99607843, 1.        , 0.99607843, 0.8627451 , 0.19607843,\n",
              "        0.        , 0.        , 0.        , 0.01568628, 0.8509804 ,\n",
              "        0.99607843, 0.99607843, 0.8509804 , 0.15294118, 0.        ,\n",
              "        0.        , 0.        , 0.        , 0.        , 0.        ,\n",
              "        0.        , 0.        , 0.        ],\n",
              "       [0.        , 0.        , 0.        , 0.14509805, 0.8509804 ,\n",
              "        0.99607843, 1.        , 0.96862745, 0.62352943, 0.07843138,\n",
              "        0.        , 0.        , 0.        , 0.01568628, 0.79607844,\n",
              "        0.99607843, 0.99607843, 0.79607844, 0.1254902 , 0.        ,\n",
              "        0.        , 0.        , 0.        , 0.        , 0.        ,\n",
              "        0.        , 0.        , 0.        ],\n",
              "       [0.        , 0.        , 0.        , 0.32156864, 0.9137255 ,\n",
              "        0.99607843, 0.99607843, 0.84705883, 0.14901961, 0.        ,\n",
              "        0.        , 0.        , 0.        , 0.        , 0.4509804 ,\n",
              "        0.9411765 , 0.9137255 , 0.43137255, 0.01568628, 0.        ,\n",
              "        0.        , 0.        , 0.        , 0.        , 0.        ,\n",
              "        0.        , 0.        , 0.        ],\n",
              "       [0.        , 0.        , 0.        , 0.49019608, 0.9764706 ,\n",
              "        0.99607843, 0.99607843, 0.6666667 , 0.08235294, 0.        ,\n",
              "        0.        , 0.        , 0.        , 0.        , 0.1254902 ,\n",
              "        0.43529412, 0.32156864, 0.07058824, 0.        , 0.        ,\n",
              "        0.        , 0.        , 0.        , 0.        , 0.        ,\n",
              "        0.        , 0.        , 0.        ],\n",
              "       [0.        , 0.        , 0.        , 0.44705883, 0.9607843 ,\n",
              "        0.99607843, 0.9843137 , 0.3254902 , 0.01176471, 0.        ,\n",
              "        0.        , 0.        , 0.        , 0.        , 0.        ,\n",
              "        0.01176471, 0.00784314, 0.        , 0.        , 0.        ,\n",
              "        0.        , 0.        , 0.        , 0.        , 0.        ,\n",
              "        0.        , 0.        , 0.        ],\n",
              "       [0.        , 0.        , 0.        , 0.07843138, 0.42745098,\n",
              "        0.49803922, 0.44313726, 0.02745098, 0.        , 0.        ,\n",
              "        0.        , 0.        , 0.        , 0.        , 0.        ,\n",
              "        0.        , 0.        , 0.        , 0.        , 0.        ,\n",
              "        0.        , 0.        , 0.        , 0.        , 0.        ,\n",
              "        0.        , 0.        , 0.        ],\n",
              "       [0.        , 0.        , 0.        , 0.        , 0.01176471,\n",
              "        0.01568628, 0.01568628, 0.        , 0.        , 0.        ,\n",
              "        0.        , 0.        , 0.        , 0.        , 0.        ,\n",
              "        0.        , 0.        , 0.        , 0.        , 0.        ,\n",
              "        0.        , 0.        , 0.        , 0.        , 0.        ,\n",
              "        0.        , 0.        , 0.        ],\n",
              "       [0.        , 0.        , 0.        , 0.        , 0.        ,\n",
              "        0.        , 0.        , 0.        , 0.        , 0.        ,\n",
              "        0.        , 0.        , 0.        , 0.        , 0.        ,\n",
              "        0.        , 0.        , 0.        , 0.        , 0.        ,\n",
              "        0.        , 0.        , 0.        , 0.        , 0.        ,\n",
              "        0.        , 0.        , 0.        ]], dtype=float32)"
            ]
          },
          "metadata": {},
          "execution_count": 8
        }
      ],
      "source": [
        "x_train = x_train.astype('float32') / 255.0\n",
        "x_test = x_test.astype('float32') / 255.0\n",
        "print(x_train[0].shape)\n",
        "x_train[0]"
      ]
    },
    {
      "cell_type": "code",
      "execution_count": null,
      "metadata": {
        "colab": {
          "base_uri": "https://localhost:8080/"
        },
        "id": "KSU3beXsIhf2",
        "outputId": "1ca686ff-b2f6-44f8-f0e2-d5a95f45cc67"
      },
      "outputs": [
        {
          "output_type": "stream",
          "name": "stdout",
          "text": [
            "(124800, 784)\n",
            "(20800, 784)\n"
          ]
        }
      ],
      "source": [
        "x_train = x_train.reshape((len(x_train), np.prod(x_train.shape[1:])))\n",
        "x_test = x_test.reshape((len(x_test), np.prod(x_test.shape[1:])))\n",
        "print(x_train.shape)\n",
        "print(x_test.shape)"
      ]
    },
    {
      "cell_type": "code",
      "execution_count": null,
      "metadata": {
        "colab": {
          "base_uri": "https://localhost:8080/"
        },
        "id": "3DZaCIPMKUY1",
        "outputId": "69aed60b-d7e4-4bc2-c774-616cf70f3dae"
      },
      "outputs": [
        {
          "output_type": "stream",
          "name": "stdout",
          "text": [
            "(124800, 28, 28, 1)\n",
            "(20800, 28, 28, 1)\n"
          ]
        }
      ],
      "source": [
        "from tensorflow.keras.utils import to_categorical\n",
        "\n",
        "img_rows = 28\n",
        "img_cols = 28\n",
        "img_ch = 1\n",
        "\n",
        "x_train = x_train.reshape(x_train.shape[0], img_rows, img_cols, img_ch)\n",
        "x_test = x_test.reshape(x_test.shape[0], img_rows, img_cols, img_ch)\n",
        "input_shape = (img_rows, img_cols, img_ch)\n",
        "\n",
        "print(x_train.shape)\n",
        "print(x_test.shape)"
      ]
    },
    {
      "cell_type": "markdown",
      "metadata": {
        "id": "lY3RPGcKYzhc"
      },
      "source": [
        "<a id = \"cell_model\"></a>\n",
        "## 3. Model Construction"
      ]
    },
    {
      "cell_type": "markdown",
      "metadata": {
        "id": "Ec1t33UdYzhc"
      },
      "source": [
        "Convolutional Neural Network is utilised to predict the value of each handwritten letter in the EMNIST Letters dataset. To derive the best model architecture for the problem, a function to determine the optimal number of hyperparameters for the Conv2D layers and units, initializer, regularizer, and overall model optimizer is defined. The experiment has been run for 600 epochs with batches of 128. _Summary result_ shows the number of convolutional layers and optimal hyperparameters for the best model constructed using the optimisation function.\n",
        "\n",
        "Ultimately, it has been found that a model architecture with the NAdam optimizer, 3 Conv2D layers, and variations in hyperparameter values for layer units, regularizers, and initializers, is the most optimal."
      ]
    },
    {
      "cell_type": "code",
      "execution_count": null,
      "metadata": {
        "id": "KSNgjlRL3P35"
      },
      "outputs": [],
      "source": [
        "pip install -U keras-tuner"
      ]
    },
    {
      "cell_type": "code",
      "execution_count": null,
      "metadata": {
        "id": "YRSO49oTYzhc"
      },
      "outputs": [],
      "source": [
        "import keras_tuner\n",
        "import tensorflow as tf\n",
        "import numpy as np"
      ]
    },
    {
      "cell_type": "code",
      "execution_count": null,
      "metadata": {
        "id": "597MMzwy1iJz"
      },
      "outputs": [],
      "source": [
        "def build_model(hp):\n",
        "    input_img = tf.keras.Input(shape=(input_shape))\n",
        "    x = input_img\n",
        "    for i in range(hp.Int('cnn_layers', 1, 2, default=2)):\n",
        "        x = tf.keras.layers.Conv2D(\n",
        "            filters=hp.Int(f\"filters_{i}\", 4, 32, step=4, default=8),\n",
        "            kernel_size=(3,3),\n",
        "            activation='relu',\n",
        "            padding='same',\n",
        "            kernel_initializer=hp.Choice(f\"kin_{i}\", [\"glorot_normal\", \"he_normal\",\"random_normal\"]),\n",
        "            kernel_regularizer=hp.Choice(f\"kreg_{i}\", [\"L1\", \"L2\", \"L1L2\"]),\n",
        "            bias_regularizer=hp.Choice(f\"breg_{i}\", [\"L1\", \"L2\", \"L1L2\"]),\n",
        "        )(x)\n",
        "        x = tf.keras.layers.BatchNormalization()(x)\n",
        "        x = tf.keras.layers.LeakyReLU(alpha=.001)(x)\n",
        "        x = tf.keras.layers.MaxPooling2D((2, 2), padding='same')(x)\n",
        "    \n",
        "    for i in range(hp.Int('cnn_layers_1', 1, 2, default=2)):\n",
        "        x = tf.keras.layers.Conv2D(\n",
        "            filters=hp.Int(f\"filters_1_{i}\", 4, 32, step=4, default=8),\n",
        "            kernel_size=(3,3),\n",
        "            activation='relu',\n",
        "            padding='same',\n",
        "            kernel_initializer=hp.Choice(f\"kin_{i}\", [\"glorot_normal\", \"he_normal\",\"random_normal\"]),\n",
        "            kernel_regularizer=hp.Choice(f\"kreg_{i}\", [\"L1\", \"L2\", \"L1L2\"]),\n",
        "            bias_regularizer=hp.Choice(f\"breg_{i}\", [\"L1\", \"L2\", \"L1L2\"]),\n",
        "        )(x)\n",
        "        x = tf.keras.layers.BatchNormalization()(x)\n",
        "        x = tf.keras.layers.LeakyReLU(alpha=.001)(x)\n",
        "        x = tf.keras.layers.MaxPooling2D((2, 2), padding='same')(x)\n",
        "        x = tf.keras.layers.UpSampling2D((2, 2))(x)\n",
        "\n",
        "    x = tf.keras.layers.Flatten()(x)\n",
        "        \n",
        "    output = tf.keras.layers.Dense(27, activation=\"softmax\")(x)\n",
        "    model = tf.keras.Model(input_img, output)\n",
        "\n",
        "    optimizer = hp.Choice('optimizer', ['adam', 'nadam', 'SGD', 'RMSprop'])\n",
        "    model.compile(\n",
        "        optimizer=optimizer, loss='sparse_categorical_crossentropy', metrics=['accuracy']\n",
        "    )\n",
        "    return model"
      ]
    },
    {
      "cell_type": "code",
      "execution_count": null,
      "metadata": {
        "id": "iY5oa_le2tpk"
      },
      "outputs": [],
      "source": [
        "tuner = keras_tuner.Hyperband(\n",
        "    hypermodel=build_model,\n",
        "    objective=\"val_accuracy\",\n",
        "    max_epochs=2,\n",
        "    factor=3,\n",
        "    hyperband_iterations=1,\n",
        "    directory=\"results\",\n",
        "    project_name=\"emnist\",\n",
        "    overwrite=True,\n",
        ")"
      ]
    },
    {
      "cell_type": "code",
      "execution_count": null,
      "metadata": {
        "id": "TqEH5RKf-M7b"
      },
      "outputs": [],
      "source": [
        "from tensorflow.keras.callbacks import EarlyStopping\n",
        "\n",
        "keras_callbacks = [\n",
        "    EarlyStopping(monitor='val_accuracy', patience=20, verbose=0)\n",
        "]"
      ]
    },
    {
      "cell_type": "code",
      "execution_count": null,
      "metadata": {
        "colab": {
          "base_uri": "https://localhost:8080/"
        },
        "id": "0oS0aHJ4Sevx",
        "outputId": "136c3a06-aefa-4112-9418-98b60b7b3aaa"
      },
      "outputs": [
        {
          "output_type": "stream",
          "name": "stdout",
          "text": [
            "Trial 2 Complete [00h 02m 24s]\n",
            "val_accuracy: 0.8784375190734863\n",
            "\n",
            "Best val_accuracy So Far: 0.8784375190734863\n",
            "Total elapsed time: 00h 06m 33s\n"
          ]
        }
      ],
      "source": [
        "tuner.search(\n",
        "    x_train,\n",
        "    y_train,\n",
        "    steps_per_epoch=600,\n",
        "    validation_data=(x_test, y_test),\n",
        "    batch_size=128,\n",
        "    validation_steps=100,\n",
        "    callbacks=keras_callbacks,\n",
        ")"
      ]
    },
    {
      "cell_type": "code",
      "execution_count": null,
      "metadata": {
        "colab": {
          "base_uri": "https://localhost:8080/"
        },
        "id": "wgFd0fzw4esf",
        "outputId": "d48a3782-4190-46d0-c213-118d27286606"
      },
      "outputs": [
        {
          "output_type": "stream",
          "name": "stdout",
          "text": [
            "Results summary\n",
            "Results in results/emnist\n",
            "Showing 1 best trials\n",
            "<keras_tuner.engine.objective.Objective object at 0x7fadb4cb9410>\n",
            "Trial summary\n",
            "Hyperparameters:\n",
            "cnn_layers: 1\n",
            "filters_0: 4\n",
            "kin_0: glorot_normal\n",
            "kreg_0: L2\n",
            "breg_0: L1\n",
            "filters_1: 8\n",
            "kin_1: random_normal\n",
            "kreg_1: L1\n",
            "breg_1: L1L2\n",
            "cnn_layers_1: 2\n",
            "filters_1_0: 8\n",
            "filters_1_1: 12\n",
            "optimizer: nadam\n",
            "tuner/epochs: 2\n",
            "tuner/initial_epoch: 0\n",
            "tuner/bracket: 0\n",
            "tuner/round: 0\n",
            "Score: 0.8784375190734863\n"
          ]
        }
      ],
      "source": [
        "tuner.results_summary(1)"
      ]
    },
    {
      "cell_type": "code",
      "execution_count": null,
      "metadata": {
        "colab": {
          "base_uri": "https://localhost:8080/"
        },
        "id": "vCzE7rZ1omwL",
        "outputId": "5ca1d7b6-c53b-4b80-e3b9-43f69fffdfdc"
      },
      "outputs": [
        {
          "output_type": "stream",
          "name": "stdout",
          "text": [
            "Model: \"model\"\n",
            "_________________________________________________________________\n",
            " Layer (type)                Output Shape              Param #   \n",
            "=================================================================\n",
            " input_1 (InputLayer)        [(None, 28, 28, 1)]       0         \n",
            "                                                                 \n",
            " conv2d (Conv2D)             (None, 28, 28, 4)         40        \n",
            "                                                                 \n",
            " batch_normalization (BatchN  (None, 28, 28, 4)        16        \n",
            " ormalization)                                                   \n",
            "                                                                 \n",
            " leaky_re_lu (LeakyReLU)     (None, 28, 28, 4)         0         \n",
            "                                                                 \n",
            " max_pooling2d (MaxPooling2D  (None, 14, 14, 4)        0         \n",
            " )                                                               \n",
            "                                                                 \n",
            " conv2d_1 (Conv2D)           (None, 14, 14, 8)         296       \n",
            "                                                                 \n",
            " batch_normalization_1 (Batc  (None, 14, 14, 8)        32        \n",
            " hNormalization)                                                 \n",
            "                                                                 \n",
            " leaky_re_lu_1 (LeakyReLU)   (None, 14, 14, 8)         0         \n",
            "                                                                 \n",
            " max_pooling2d_1 (MaxPooling  (None, 7, 7, 8)          0         \n",
            " 2D)                                                             \n",
            "                                                                 \n",
            " up_sampling2d (UpSampling2D  (None, 14, 14, 8)        0         \n",
            " )                                                               \n",
            "                                                                 \n",
            " conv2d_2 (Conv2D)           (None, 14, 14, 12)        876       \n",
            "                                                                 \n",
            " batch_normalization_2 (Batc  (None, 14, 14, 12)       48        \n",
            " hNormalization)                                                 \n",
            "                                                                 \n",
            " leaky_re_lu_2 (LeakyReLU)   (None, 14, 14, 12)        0         \n",
            "                                                                 \n",
            " max_pooling2d_2 (MaxPooling  (None, 7, 7, 12)         0         \n",
            " 2D)                                                             \n",
            "                                                                 \n",
            " up_sampling2d_1 (UpSampling  (None, 14, 14, 12)       0         \n",
            " 2D)                                                             \n",
            "                                                                 \n",
            " flatten (Flatten)           (None, 2352)              0         \n",
            "                                                                 \n",
            " dense (Dense)               (None, 27)                63531     \n",
            "                                                                 \n",
            "=================================================================\n",
            "Total params: 64,839\n",
            "Trainable params: 64,791\n",
            "Non-trainable params: 48\n",
            "_________________________________________________________________\n"
          ]
        }
      ],
      "source": [
        "models = tuner.get_best_models(num_models=2)\n",
        "best_model = models[0]\n",
        "best_model.build(input_shape=(None,28,28,1))\n",
        "best_model.summary()"
      ]
    },
    {
      "cell_type": "markdown",
      "source": [
        "The summary of the hyperparameters shows the architecture of the best model defined by the model optimisation function. Generally, the model is built with 3 hidden convolutional layers and 27 output nodes, with NAdam as the optimizer. The output nodes for each convolutional layer vary from 4 to 12, with each layer having different values for the kernel initializer (i.e. random_normal or glorot_normal), bias and kernel regularizers (i.e. L1, L2, or L1L2). The convolutional layers made use of the relu activation function to maximise the convergence performance of the model and improve computational efficiency. Batch normalisation is also used to optimise the model fitting process. LeakyReLU, on the other hand, is implemented to avoid/reduce saturation problems of neurons. Moreover, the output node is set to 27 with the softmax activation function, which is ideal for multi-class classification. Lastly, the loss function used is sparse categorical entropy with metric to maximise as accuracy.\n",
        "\n",
        "The following describes the model architecture of the best model for each constructed layer:\n",
        "\n",
        "*   Conv2D: (3x3 inputs + 1 bias) x 4 outputs = 40 parameters\n",
        "*   Batch normalization: 4 outputs x 4 outputs = 16 parameters\n",
        "*   Conv2D_1: (3x3 inputs x 4 outputs + 1 bias) x 8 hidden nodes = 296 parameters\n",
        "*   Batch normalization_1: 4 outputs x 8 outputs = 32 parameters\n",
        "*   Conv2D_2: (3x3 inputs x 8 outputs + 1 bias) x 12 hidden nodes = 876 parameters\n",
        "*   Batch normalization_2: 4 outputs x 12 outputs = 48 parameters\n",
        "*   Output layer: (2352 inputs x 27 outputs) = 63,531 parameters"
      ],
      "metadata": {
        "id": "4uza7jL3L0F2"
      }
    },
    {
      "cell_type": "markdown",
      "metadata": {
        "id": "B0h_o6nnufjg"
      },
      "source": [
        "<a id = \"cell_execution\"></a>\n",
        "## 4. Model Execution"
      ]
    },
    {
      "cell_type": "markdown",
      "metadata": {
        "id": "mJnESaxsYzhf"
      },
      "source": [
        "The hyperparameters discovered in the experiments through running the pre-defined optimisation function have been derived to build a model to fit the data for validation purposes. For this reason, several trials have been executed to determine the best batch size to which the samples will be fitted, taking note of the machine memory (e.g. lack of access to GPU) and time efficiency of each run. In some existing studies relating to neural networks, it has been found that the batch size could be related to accuraacy and goodness-of-fit of models.\n",
        "\n",
        "The results of experiments for other batch sizes aside from the one reported have not been published due too  limitation in the machine memory. However, values 32, 50, 64, 128, 256, and 512 have been tested, where 512 has shown the highest accuracy. For the same rationale, values other than that mentioned have not been tried."
      ]
    },
    {
      "cell_type": "code",
      "execution_count": null,
      "metadata": {
        "id": "6d5jMdTI3hm2"
      },
      "outputs": [],
      "source": [
        "# Get the top 2 hyperparameters.\n",
        "best_hps = tuner.get_best_hyperparameters(5)\n",
        "# Build the model with the best hp.\n",
        "model = build_model(best_hps[0])"
      ]
    },
    {
      "cell_type": "code",
      "execution_count": null,
      "metadata": {
        "id": "C4-DYSwA3iJu"
      },
      "outputs": [],
      "source": [
        "hist = model.fit(x_train, y_train,\n",
        "                epochs=30,\n",
        "                batch_size=512,\n",
        "                shuffle=True,\n",
        "                validation_data=(x_test, y_test),\n",
        "                callbacks=keras_callbacks)"
      ]
    },
    {
      "cell_type": "markdown",
      "metadata": {
        "id": "tLBXWEhpYzhg"
      },
      "source": [
        "<a id = \"cell_report\"></a>\n",
        "## 5. Experiments Report"
      ]
    },
    {
      "cell_type": "markdown",
      "metadata": {
        "id": "f4yf9F_ZxQVH"
      },
      "source": [
        "The created model has been evaluated in terms of loss and accuracy. An overall accuracy of 90.81% is achieved for the validation stage with a 0.2414 loss at the 30th epoch.\n",
        "\n",
        "The _line graph_ shows the model loss and accuracy for training and validation stages over the epochs. With a decreasing convex downward slope for both stages, it can be deduced that the model fits both the training and validation data well. However, it can be observed that there is a gap between the training and validation losses. Although this isn't much of a problem considering both follows a decreasing trend, it is optimal to close the gap. It is therefore recommended for future experiments to either increase the sample size or the number of epochs to see if the model can reach a lowe global loss minimum.\n",
        "\n",
        "The accuracy metrics, on the other hand, is able to reach around 90% from the sixth epoch. This is a good indication of the model's predictive performance. To test this, an example prediction has been conducted for a single sample. Results show that the predicted label is 17, which is equivalent to 'Q' or 'q' in the alphabet. Upon visualisation of the sample inputs, it can be seen that a handwritten 'q' is the actual label; therefore indicating that the prediction is correctly made.\n",
        "\n",
        "The constructed model can be used to make predictions on possible employee attritions. With employees being one of the most important parts of an organisation, employee attritions can lead to serious and irreparable costs to companies (e.g. loss of nontransferable skills, business connections, client trust, etc.). Therefore, having had predicted a possible attrition, especially that of an excellent employee, would give the company an opportunity to make actions to potentially prevent the churn. The created model can be run by companies in fixed intervals (e.g. yearly) or in cases of organisational restructuring."
      ]
    },
    {
      "cell_type": "code",
      "execution_count": null,
      "metadata": {
        "id": "sZpgv_SG3oNu"
      },
      "outputs": [],
      "source": [
        "%matplotlib inline\n",
        "\n",
        "def plot_hist(h, xsize=6, ysize=10):\n",
        "    \n",
        "    # Find what measurements were recorded\n",
        "    meas = h.keys()\n",
        "    \n",
        "    # Prepare plotting\n",
        "    fig_size = plt.rcParams[\"figure.figsize\"]\n",
        "    plt.rcParams[\"figure.figsize\"] = [xsize, ysize]\n",
        "    \n",
        "    # Plot each measurement\n",
        "    meas_list = []\n",
        "    for m in meas:\n",
        "        plt.plot(h[m])\n",
        "        meas_list.append(m)\n",
        "\n",
        "    # Add info to the plot\n",
        "    ylab = ', '\n",
        "    plt.ylabel(ylab.join(meas_list))\n",
        "    plt.xlabel('epoch')\n",
        "    plt.legend(meas_list) #, loc='upper left')\n",
        "    plt.show()\n",
        "    return"
      ]
    },
    {
      "cell_type": "code",
      "execution_count": null,
      "metadata": {
        "colab": {
          "base_uri": "https://localhost:8080/",
          "height": 334
        },
        "id": "rGJe9Iqd3oq3",
        "outputId": "c1f57da8-978e-4f83-98d0-3b8b68485439"
      },
      "outputs": [
        {
          "output_type": "display_data",
          "data": {
            "text/plain": [
              "<Figure size 576x360 with 1 Axes>"
            ],
            "image/png": "[encoded data removed]"
          },
          "metadata": {
            "needs_background": "light"
          }
        }
      ],
      "source": [
        "plot_hist(hist.history, xsize=8, ysize=5)"
      ]
    },
    {
      "cell_type": "code",
      "source": [
        "import random\n",
        "len(x_test)\n",
        "j = random.randint(0,(len(x_test)))\n",
        "pred = model.predict(x_test[j].reshape(1, 28, 28, 1))\n",
        "print(pred.argmax())"
      ],
      "metadata": {
        "colab": {
          "base_uri": "https://localhost:8080/"
        },
        "id": "cO3aack6rmnd",
        "outputId": "ac2cef40-d406-4645-f68a-de80219cc3dd"
      },
      "execution_count": null,
      "outputs": [
        {
          "output_type": "stream",
          "name": "stdout",
          "text": [
            "17\n"
          ]
        }
      ]
    },
    {
      "cell_type": "code",
      "source": [
        "pic1 = x_test[j].reshape(28,28)\n",
        "plt.imshow(pic1, cmap='Greys')"
      ],
      "metadata": {
        "colab": {
          "base_uri": "https://localhost:8080/",
          "height": 337
        },
        "id": "-5SoetHqrpH1",
        "outputId": "8cfdea11-03e9-4fe6-d961-946445145870"
      },
      "execution_count": null,
      "outputs": [
        {
          "output_type": "execute_result",
          "data": {
            "text/plain": [
              "<matplotlib.image.AxesImage at 0x7fadb0c65e50>"
            ]
          },
          "metadata": {},
          "execution_count": 24
        },
        {
          "output_type": "display_data",
          "data": {
            "text/plain": [
              "<Figure size 576x360 with 1 Axes>"
            ],
            "image/png": "[encoded data removed]"
          },
          "metadata": {
            "needs_background": "light"
          }
        }
      ]
    }
  ],
  "metadata": {
    "colab": {
      "provenance": []
    },
    "kernelspec": {
      "display_name": "Python 3",
      "language": "python",
      "name": "python3"
    },
    "language_info": {
      "codemirror_mode": {
        "name": "ipython",
        "version": 3
      },
      "file_extension": ".py",
      "mimetype": "text/x-python",
      "name": "python",
      "nbconvert_exporter": "python",
      "pygments_lexer": "ipython3",
      "version": "3.7.1"
    }
  },
  "nbformat": 4,
  "nbformat_minor": 0
}